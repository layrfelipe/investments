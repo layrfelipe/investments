{
 "cells": [
  {
   "cell_type": "markdown",
   "metadata": {},
   "source": [
    "### Importação de bibliotecas"
   ]
  },
  {
   "cell_type": "code",
   "execution_count": null,
   "metadata": {},
   "outputs": [],
   "source": [
    "import yfinance as yf\n",
    "import pandas as pd"
   ]
  },
  {
   "cell_type": "markdown",
   "metadata": {},
   "source": [
    "### Criação de constante para armazenar os tickers das maiores ações do Brasil"
   ]
  },
  {
   "cell_type": "code",
   "execution_count": null,
   "metadata": {},
   "outputs": [],
   "source": [
    "import yfinance as yf\n",
    "import pandas as pd\n",
    "\n",
    "BIGGEST_BRAZILIAN_COMPANIES_TICKERS_LIST = ['PETR3.SA', 'ITUB3.SA', 'VALE3.SA', 'ABEV3.SA', 'BPAC11.SA', 'BBAS3.SA', 'WEGE3.SA', 'BBDC3.SA',\n",
    "                                            'ITSA4.SA', 'ELET3.SA','SANB11.SA', 'VIVT3.SA', 'SUZB3.SA', 'B3SA3.SA', 'BBSE3.SA', 'RDOR3.SA',\n",
    "                                            'RENT3.SA', 'SBSP3.SA', 'JBSS3.SA', 'CXSE3.SA', 'RADL3.SA', 'TIMS3.SA', 'PRIO3.SA', 'RAIL3.SA',\n",
    "                                            'CPLE6.SA', 'CPFE3.SA', 'EQTL3.SA', 'RAIZ4.SA', 'GGBR3.SA', 'EGIE3.SA', 'UGPA3.SA', 'CSAN3.SA',\n",
    "                                            'CMIN3.SA', 'VBBR3.SA', 'HAPV3.SA', 'CCRO3.SA', 'BRFS3.SA', 'CMIG4.SA', 'CRFB3.SA', 'KLBN11.SA',\n",
    "                                            'TRPL4.SA', 'EQPA3.SA', 'GMAT3.SA', 'CEGR3.SA', 'ENMT4.SA', 'BRKM5.SA', 'REDE3.SA', 'MULT3.SA',\n",
    "                                            'LREN3.SA', 'SMFT3.SA', 'CIEL3.SA', 'MDIA3.SA', 'USIM5.SA', 'CGAS3.SA', 'MGLU3.SA', 'GGPS3.SA',\n",
    "                                            'TFCO4.SA', 'TAEE11.SA', 'AURE3.SA', 'BPAN4.SA', 'CEEB3.SA']"
   ]
  },
  {
   "cell_type": "markdown",
   "metadata": {},
   "source": [
    "### Criação de um DataFrame para guardar os dados das empresas há 10 anos e o seu crescimento até hoje"
   ]
  },
  {
   "cell_type": "code",
   "execution_count": null,
   "metadata": {},
   "outputs": [],
   "source": [
    "prices_df = pd.DataFrame()\n",
    "\n",
    "for ticker in BIGGEST_BRAZILIAN_COMPANIES_TICKERS_LIST:\n",
    "    ticker_object = yf.Ticker(ticker)\n",
    "    history = ticker_object.history(period='2y')\n",
    "    df = pd.DataFrame(history)\n",
    "\n",
    "    oldest_price = round(df.iloc[0]['Close'], 2)\n",
    "    current_price = round(df.iloc[-1]['Close'], 2)\n",
    "    growth = (current_price - oldest_price) * 100 / oldest_price\n",
    "    growth = round(growth, 2)\n",
    "\n",
    "    ticker_info = ticker_object.info\n",
    "    trailing_pe = round(ticker_info['trailingPE'], 2) if 'trailingPE' in ticker_info.keys() else None\n",
    "    price_to_book = round(ticker_info['priceToBook'], 2) if 'priceToBook' in ticker_info.keys() else None\n",
    "    return_on_equity = round(ticker_info['returnOnEquity'], 2) if 'returnOnEquity' in ticker_info.keys() else None\n",
    "    dividend_yield = round(ticker_info['dividendYield'], 2) if 'dividendYield' in ticker_info.keys() else None\n",
    "\n",
    "    ticker_name_formatted = ticker[:-3]\n",
    "    \n",
    "    prices_df[ticker_name_formatted] = {\n",
    "                            'growth': growth,\n",
    "                            'pl': trailing_pe,\n",
    "                            'pvp': price_to_book,\n",
    "                            'roe': return_on_equity,\n",
    "                            'dy': dividend_yield\n",
    "                        }\n"
   ]
  },
  {
   "cell_type": "markdown",
   "metadata": {},
   "source": [
    "### Selecionando as 50 empresas que mais se valorizaram nos últimos 10 anos"
   ]
  },
  {
   "cell_type": "code",
   "execution_count": null,
   "metadata": {},
   "outputs": [],
   "source": [
    "sorted_prices_df = prices_df.T.sort_values(by='growth', ascending=False)\n",
    "top_30_stocks_after_sorted_by_growth = sorted_prices_df.iloc[:50]\n",
    "top_30_stocks_after_sorted_by_growth"
   ]
  },
  {
   "cell_type": "markdown",
   "metadata": {},
   "source": [
    "### Obtendo insights"
   ]
  },
  {
   "cell_type": "code",
   "execution_count": null,
   "metadata": {},
   "outputs": [],
   "source": [
    "min_pl = round(top_30_stocks_after_sorted_by_growth['pl'].min(), 2)\n",
    "max_pl = round(top_30_stocks_after_sorted_by_growth['pl'].max(), 2)\n",
    "mean_pl = round(top_30_stocks_after_sorted_by_growth['pl'].mean(), 2)\n",
    "median_pl = round(top_30_stocks_after_sorted_by_growth['pl'].median(), 2)\n",
    "\n",
    "min_pvp = round(top_30_stocks_after_sorted_by_growth['pvp'].min(), 2)\n",
    "max_pvp = round(top_30_stocks_after_sorted_by_growth['pvp'].max(), 2)\n",
    "mean_pvp = round(top_30_stocks_after_sorted_by_growth['pvp'].mean(), 2)\n",
    "median_pvp = round(top_30_stocks_after_sorted_by_growth['pvp'].median(), 2)\n",
    "\n",
    "min_roe = round(top_30_stocks_after_sorted_by_growth['roe'].min(), 2)\n",
    "max_roe = round(top_30_stocks_after_sorted_by_growth['roe'].max(), 2)\n",
    "mean_roe = round(top_30_stocks_after_sorted_by_growth['roe'].mean(), 2)\n",
    "median_roe = round(top_30_stocks_after_sorted_by_growth['roe'].median(), 2)\n",
    "\n",
    "min_dy = round(top_30_stocks_after_sorted_by_growth['dy'].min(), 2)\n",
    "max_dy = round(top_30_stocks_after_sorted_by_growth['dy'].max(), 2)\n",
    "mean_dy = round(top_30_stocks_after_sorted_by_growth['dy'].mean(), 2)\n",
    "median_dy = round(top_30_stocks_after_sorted_by_growth['dy'].median(), 2)"
   ]
  },
  {
   "cell_type": "code",
   "execution_count": null,
   "metadata": {},
   "outputs": [],
   "source": [
    "print('########### PL ###########')\n",
    "print(f'Min: {min_pl}')\n",
    "print(f'Max: {max_pl}')\n",
    "print(f'Mean: {mean_pl}')\n",
    "print(f'Median: {median_pl}')\n",
    "\n",
    "print('\\n########### P/VP ###########')\n",
    "print(f'Min: {min_pvp}')\n",
    "print(f'Max: {max_pvp}')\n",
    "print(f'Mean: {mean_pvp}')\n",
    "print(f'Median: {median_pvp}')\n",
    "\n",
    "print('\\n########### ROE ###########')\n",
    "print(f'Min: {min_roe}')\n",
    "print(f'Max: {max_roe}')\n",
    "print(f'Mean: {mean_roe}')\n",
    "print(f'Median: {median_roe}')\n",
    "\n",
    "print('\\n########### DY ###########')\n",
    "print(f'Min: {min_dy}')\n",
    "print(f'Max: {max_dy}')\n",
    "print(f'Mean: {mean_dy}')\n",
    "print(f'Median: {median_dy}')"
   ]
  }
 ],
 "metadata": {
  "kernelspec": {
   "display_name": "virtualenv",
   "language": "python",
   "name": "python3"
  },
  "language_info": {
   "codemirror_mode": {
    "name": "ipython",
    "version": 3
   },
   "file_extension": ".py",
   "mimetype": "text/x-python",
   "name": "python",
   "nbconvert_exporter": "python",
   "pygments_lexer": "ipython3",
   "version": "3.10.5"
  }
 },
 "nbformat": 4,
 "nbformat_minor": 2
}
