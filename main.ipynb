{
 "cells": [
  {
   "cell_type": "markdown",
   "metadata": {},
   "source": [
    "#### Filtros básicos para descartar ações ruins"
   ]
  },
  {
   "cell_type": "code",
   "execution_count": null,
   "metadata": {},
   "outputs": [],
   "source": [
    "import pandas as pd\n",
    "\n",
    "df = pd.read_excel('./data.xlsx')\n",
    "df.head()"
   ]
  },
  {
   "cell_type": "code",
   "execution_count": null,
   "metadata": {},
   "outputs": [],
   "source": [
    "df = df[df['P/L'] > 3]\n",
    "df = df[df['P/L'] < 20]\n",
    "df = df[df['P/VP'] < 3]\n",
    "df = df[df['Div.Yield'] > 0.05]\n",
    "df = df[df['EV/EBIT'] < 15]\n",
    "df = df[df['ROE'] > 0.2]\n",
    "df = df[df['Dív.Brut/ Patrim.'] < 3]\n",
    "df = df[df['Cresc. Rec.5a'] > 0.2]\n",
    "df.shape"
   ]
  },
  {
   "cell_type": "markdown",
   "metadata": {},
   "source": [
    "#### 'Fórmula mágica' de Greenblat (adaptada)"
   ]
  },
  {
   "cell_type": "code",
   "execution_count": null,
   "metadata": {},
   "outputs": [],
   "source": [
    "pontuaction_dict = {}\n",
    "for ticker in df['Papel']:\n",
    "    pontuaction_dict[ticker] = 0"
   ]
  },
  {
   "cell_type": "code",
   "execution_count": null,
   "metadata": {},
   "outputs": [],
   "source": [
    "df_sorted_by_roe = df.sort_values(by='ROE', ascending=False)\n",
    "df_sorted_by_roe.reset_index(inplace=True)\n",
    "df_sorted_by_roe.drop('index', axis=1, inplace=True)\n",
    "\n",
    "df_sorted_by_pl = df.sort_values(by='P/L')\n",
    "df_sorted_by_pl.reset_index(inplace=True)\n",
    "df_sorted_by_pl.drop('index', axis=1, inplace=True)\n",
    "\n",
    "for idx, row in df_sorted_by_roe.iterrows():\n",
    "    pontuaction_dict[row['Papel']] += (idx+1)\n",
    "\n",
    "for idx, row in df_sorted_by_pl.iterrows():\n",
    "    pontuaction_dict[row['Papel']] += (idx+1)\n",
    "\n",
    "final_df = pd.DataFrame([pontuaction_dict], index=['Pontos'])\n",
    "final_df = final_df.T\n",
    "final_df.sort_values(by='Pontos', inplace=True)\n",
    "final_df"
   ]
  },
  {
   "cell_type": "markdown",
   "metadata": {},
   "source": [
    "#### TO-DO\n",
    "- Filtrar colunas desnecessárias após ler o .xlsx\n",
    "- Definir valores diferentes dos filtros pra cada estratégia\n",
    "- Simular resultados da carteira de cada estratégia\n",
    "- Rebalancear carteiras ano a ano pra cada estratégia"
   ]
  }
 ],
 "metadata": {
  "kernelspec": {
   "display_name": "virtualenv",
   "language": "python",
   "name": "python3"
  },
  "language_info": {
   "codemirror_mode": {
    "name": "ipython",
    "version": 3
   },
   "file_extension": ".py",
   "mimetype": "text/x-python",
   "name": "python",
   "nbconvert_exporter": "python",
   "pygments_lexer": "ipython3",
   "version": "3.10.5"
  }
 },
 "nbformat": 4,
 "nbformat_minor": 2
}
