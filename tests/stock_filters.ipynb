{
 "cells": [
  {
   "cell_type": "markdown",
   "metadata": {},
   "source": [
    "### Importação de bibliotecas"
   ]
  },
  {
   "cell_type": "code",
   "execution_count": 2,
   "metadata": {},
   "outputs": [],
   "source": [
    "import yfinance as yf\n",
    "import pandas as pd"
   ]
  },
  {
   "cell_type": "markdown",
   "metadata": {},
   "source": [
    "### Criação de constante para armazenar os tickers das maiores ações do Brasil"
   ]
  },
  {
   "cell_type": "code",
   "execution_count": 3,
   "metadata": {},
   "outputs": [],
   "source": [
    "BIGGEST_BRAZILIAN_COMPANIES_TICKERS_LIST = ['PETR3.SA', 'ITUB3.SA', 'VALE3.SA', 'ABEV3.SA', 'BPAC11.SA', 'BBAS3.SA', 'WEGE3.SA', 'BBDC3.SA',\n",
    "                                            'ITSA4.SA', 'ELET3.SA','SANB11.SA', 'VIVT3.SA', 'SUZB3.SA', 'B3SA3.SA', 'BBSE3.SA', 'RDOR3.SA',\n",
    "                                            'RENT3.SA', 'SBSP3.SA', 'JBSS3.SA', 'CXSE3.SA', 'RADL3.SA', 'TIMS3.SA', 'PRIO3.SA', 'RAIL3.SA',\n",
    "                                            'CPLE6.SA', 'CPFE3.SA', 'EQTL3.SA', 'RAIZ4.SA', 'GGBR3.SA', 'EGIE3.SA', 'UGPA3.SA', 'CSAN3.SA',\n",
    "                                            'CMIN3.SA', 'VBBR3.SA', 'HAPV3.SA', 'CCRO3.SA', 'BRFS3.SA', 'CMIG4.SA', 'CRFB3.SA', 'KLBN11.SA',\n",
    "                                            'TRPL4.SA', 'EQPA3.SA', 'GMAT3.SA', 'CEGR3.SA', 'ENMT4.SA', 'BRKM5.SA', 'REDE3.SA', 'MULT3.SA',\n",
    "                                            'LREN3.SA', 'SMFT3.SA', 'CIEL3.SA', 'MDIA3.SA', 'USIM5.SA', 'CGAS3.SA', 'MGLU3.SA', 'GGPS3.SA',\n",
    "                                            'TFCO4.SA', 'TAEE11.SA', 'AURE3.SA', 'BPAN4.SA', 'CEEB3.SA']"
   ]
  },
  {
   "cell_type": "markdown",
   "metadata": {},
   "source": [
    "### Criação de um DataFrame para guardar os dados atuais das empresas"
   ]
  },
  {
   "cell_type": "code",
   "execution_count": 4,
   "metadata": {},
   "outputs": [],
   "source": [
    "prices_df = pd.DataFrame()\n",
    "\n",
    "for ticker in BIGGEST_BRAZILIAN_COMPANIES_TICKERS_LIST:\n",
    "    ticker_object = yf.Ticker(ticker)\n",
    "    history = ticker_object.history('1d')\n",
    "    df = pd.DataFrame(history)\n",
    "\n",
    "    current_price = round(df.iloc[-1]['Close'], 2)\n",
    "\n",
    "    ticker_info = ticker_object.info\n",
    "    trailing_pe = round(ticker_info['trailingPE'], 2) if 'trailingPE' in ticker_info.keys() else None\n",
    "    price_to_book = round(ticker_info['priceToBook'], 2) if 'priceToBook' in ticker_info.keys() else None\n",
    "    return_on_equity = round(ticker_info['returnOnEquity'], 2) if 'returnOnEquity' in ticker_info.keys() else None\n",
    "    dividend_yield = round(ticker_info['dividendYield'], 2) if 'dividendYield' in ticker_info.keys() else None\n",
    "\n",
    "    ticker_name_formatted = ticker[:-3]\n",
    "    \n",
    "    prices_df[ticker_name_formatted] = {\n",
    "                            'pl': trailing_pe,\n",
    "                            'pvp': price_to_book,\n",
    "                            'roe': return_on_equity,\n",
    "                            'dy': dividend_yield\n",
    "                        }"
   ]
  },
  {
   "cell_type": "markdown",
   "metadata": {},
   "source": [
    "### Aplicação de filtros baseados nos valores encontrados nas análises retroativas (2, 5 e 10 anos atrás)"
   ]
  },
  {
   "cell_type": "code",
   "execution_count": 6,
   "metadata": {},
   "outputs": [
    {
     "data": {
      "text/html": [
       "<div>\n",
       "<style scoped>\n",
       "    .dataframe tbody tr th:only-of-type {\n",
       "        vertical-align: middle;\n",
       "    }\n",
       "\n",
       "    .dataframe tbody tr th {\n",
       "        vertical-align: top;\n",
       "    }\n",
       "\n",
       "    .dataframe thead th {\n",
       "        text-align: right;\n",
       "    }\n",
       "</style>\n",
       "<table border=\"1\" class=\"dataframe\">\n",
       "  <thead>\n",
       "    <tr style=\"text-align: right;\">\n",
       "      <th></th>\n",
       "      <th>pl</th>\n",
       "      <th>pvp</th>\n",
       "      <th>roe</th>\n",
       "      <th>dy</th>\n",
       "    </tr>\n",
       "  </thead>\n",
       "  <tbody>\n",
       "    <tr>\n",
       "      <th>PETR3</th>\n",
       "      <td>3.56</td>\n",
       "      <td>1.25</td>\n",
       "      <td>0.34</td>\n",
       "      <td>0.15</td>\n",
       "    </tr>\n",
       "    <tr>\n",
       "      <th>VALE3</th>\n",
       "      <td>6.54</td>\n",
       "      <td>1.35</td>\n",
       "      <td>0.21</td>\n",
       "      <td>0.12</td>\n",
       "    </tr>\n",
       "    <tr>\n",
       "      <th>SUZB3</th>\n",
       "      <td>5.60</td>\n",
       "      <td>1.75</td>\n",
       "      <td>0.36</td>\n",
       "      <td>0.08</td>\n",
       "    </tr>\n",
       "    <tr>\n",
       "      <th>CPFE3</th>\n",
       "      <td>7.16</td>\n",
       "      <td>2.12</td>\n",
       "      <td>0.32</td>\n",
       "      <td>0.09</td>\n",
       "    </tr>\n",
       "    <tr>\n",
       "      <th>CMIN3</th>\n",
       "      <td>8.37</td>\n",
       "      <td>2.79</td>\n",
       "      <td>0.32</td>\n",
       "      <td>0.14</td>\n",
       "    </tr>\n",
       "    <tr>\n",
       "      <th>CMIG4</th>\n",
       "      <td>4.80</td>\n",
       "      <td>1.03</td>\n",
       "      <td>0.23</td>\n",
       "      <td>0.10</td>\n",
       "    </tr>\n",
       "    <tr>\n",
       "      <th>TAEE11</th>\n",
       "      <td>5.49</td>\n",
       "      <td>1.82</td>\n",
       "      <td>0.21</td>\n",
       "      <td>0.07</td>\n",
       "    </tr>\n",
       "    <tr>\n",
       "      <th>CEEB3</th>\n",
       "      <td>5.59</td>\n",
       "      <td>1.55</td>\n",
       "      <td>0.30</td>\n",
       "      <td>0.12</td>\n",
       "    </tr>\n",
       "  </tbody>\n",
       "</table>\n",
       "</div>"
      ],
      "text/plain": [
       "          pl   pvp   roe    dy\n",
       "PETR3   3.56  1.25  0.34  0.15\n",
       "VALE3   6.54  1.35  0.21  0.12\n",
       "SUZB3   5.60  1.75  0.36  0.08\n",
       "CPFE3   7.16  2.12  0.32  0.09\n",
       "CMIN3   8.37  2.79  0.32  0.14\n",
       "CMIG4   4.80  1.03  0.23  0.10\n",
       "TAEE11  5.49  1.82  0.21  0.07\n",
       "CEEB3   5.59  1.55  0.30  0.12"
      ]
     },
     "execution_count": 6,
     "metadata": {},
     "output_type": "execute_result"
    }
   ],
   "source": [
    "current_data_df = prices_df.T\n",
    "current_data_df = current_data_df[current_data_df['pl'] < 15]\n",
    "current_data_df = current_data_df[current_data_df['pl'] > 3]\n",
    "current_data_df = current_data_df[current_data_df['pvp'] > 1]\n",
    "current_data_df = current_data_df[current_data_df['pvp'] < 3]\n",
    "current_data_df = current_data_df[current_data_df['roe'] > 0.2]\n",
    "current_data_df = current_data_df[current_data_df['dy'] > 0.05]\n",
    "\n",
    "current_data_df"
   ]
  }
 ],
 "metadata": {
  "kernelspec": {
   "display_name": "virtualenv",
   "language": "python",
   "name": "python3"
  },
  "language_info": {
   "codemirror_mode": {
    "name": "ipython",
    "version": 3
   },
   "file_extension": ".py",
   "mimetype": "text/x-python",
   "name": "python",
   "nbconvert_exporter": "python",
   "pygments_lexer": "ipython3",
   "version": "3.10.5"
  }
 },
 "nbformat": 4,
 "nbformat_minor": 2
}
